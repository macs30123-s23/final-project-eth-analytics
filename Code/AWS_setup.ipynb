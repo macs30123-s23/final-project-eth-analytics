{
 "cells": [
  {
   "attachments": {},
   "cell_type": "markdown",
   "metadata": {},
   "source": [
    "This is a collection of AWS cloud setup commands, including:  \n",
    "* S3 bucket\n",
    "* EMR cluster for Spark"
   ]
  },
  {
   "attachments": {},
   "cell_type": "markdown",
   "metadata": {},
   "source": [
    "# Create S3 bucket"
   ]
  },
  {
   "cell_type": "code",
   "execution_count": null,
   "metadata": {},
   "outputs": [],
   "source": [
    "import boto3"
   ]
  },
  {
   "cell_type": "code",
   "execution_count": 1,
   "metadata": {},
   "outputs": [],
   "source": [
    "# create S3 bucket\n",
    "s3 = boto3.client('s3')\n",
    "bucket_name = 'blockchain-bucket-mxh'\n",
    "bucket = s3.create_bucket(Bucket=bucket_name)"
   ]
  },
  {
   "attachments": {},
   "cell_type": "markdown",
   "metadata": {},
   "source": [
    "# Create EMR Cluster with Spark configuration\n",
    "\n",
    "Current configurations:  \n",
    "* instance-count: 4 for EDA/testing, 8 for modeling \n",
    "* livy.server.session.timeout: 8h  "
   ]
  },
  {
   "attachments": {},
   "cell_type": "markdown",
   "metadata": {},
   "source": [
    "AWSCLI command\n",
    "\n",
    "```\n",
    "aws emr create-cluster \\\n",
    "    --name \"Blockchain-Spark-Cluster\" \\\n",
    "    --release-label \"emr-6.2.0\" \\\n",
    "    --applications Name=Hadoop Name=Hive Name=JupyterEnterpriseGateway Name=JupyterHub Name=Livy Name=Pig Name=Spark Name=Tez \\\n",
    "    --instance-type m5.xlarge \\\n",
    "    --instance-count 8 \\\n",
    "    --use-default-roles \\\n",
    "    --region us-east-1 \\\n",
    "    --ec2-attributes '{\"KeyName\": \"vockey\"}' \\\n",
    "    --configurations '[{\"Classification\": \"jupyter-s3-conf\", \"Properties\": {\"s3.persistence.enabled\": \"true\", \"s3.persistence.bucket\": \"blockchain-bucket-mxh\"}},\n",
    "    {\n",
    "        \"Classification\": \"livy-conf\",\n",
    "        \"Properties\": {\n",
    "            \"livy.server.session.timeout\": \"8h\"\n",
    "        }\n",
    "    }\n",
    "    ]'\n",
    "\n",
    "```"
   ]
  },
  {
   "attachments": {},
   "cell_type": "markdown",
   "metadata": {},
   "source": [
    "## Connecting to EMR Cluster via ssh"
   ]
  },
  {
   "attachments": {},
   "cell_type": "markdown",
   "metadata": {},
   "source": [
    "`!ssh -i ~/.ssh/labsuser.pem -NL 9443:localhost:9443 hadoop@PUBLIC_DNS_DOMAIN`"
   ]
  },
  {
   "attachments": {},
   "cell_type": "markdown",
   "metadata": {},
   "source": [
    "## Connecting to EMR Cluster via PUTTY\n",
    "If command line ssh doesn't work, use PUTTY:\n",
    "* Open putty.exe  \n",
    "* In Host Name, enter hadoop@PUBLIC_DNS_DOMAIN  \n",
    "* Keep Port as 22, Connection Type as ssh\n",
    "* In Connection-SSH-Auth-Credentials, in private key file for authentication, upload the ppk file: ~/.ssh/labsuser.ppk"
   ]
  }
 ],
 "metadata": {
  "kernelspec": {
   "display_name": "Python 3",
   "language": "python",
   "name": "python3"
  },
  "language_info": {
   "codemirror_mode": {
    "name": "ipython",
    "version": 3
   },
   "file_extension": ".py",
   "mimetype": "text/x-python",
   "name": "python",
   "nbconvert_exporter": "python",
   "pygments_lexer": "ipython3",
   "version": "3.8.4"
  },
  "orig_nbformat": 4
 },
 "nbformat": 4,
 "nbformat_minor": 2
}
