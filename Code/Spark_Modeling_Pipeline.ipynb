{
 "cells": [
  {
   "cell_type": "markdown",
   "metadata": {},
   "source": [
    "# Preprocessing and Modeling Pipeline"
   ]
  },
  {
   "cell_type": "markdown",
   "metadata": {},
   "source": [
    "In this file, I put together a Spark pipeline that does the following:\n",
    "- Preprocessing\n",
    "    - Engineer the txn_fee feature using VectorAssembler and FeeCalculator (custom transformer)\n",
    "    - Aggregate the data into a given frequency (\"daily\" or \"block\") using FeeAggregator (custom transformer)\n",
    "\n",
    "- Modeling\n",
    "    - Creates lagged columns using LagShifter (custom transformer)\n",
    "    - Assembles a features column using VectorAssembler\n",
    "    - LinearRegressor\n",
    "    \n",
    "I built a custom train-test split function and use it for testing out-of sample performance of the model. Then I tuned model hyperparameters using a custom grid search function."
   ]
  },
  {
   "cell_type": "code",
   "execution_count": 1,
   "metadata": {},
   "outputs": [
    {
     "data": {
      "text/html": [
       "Current session configs: <tt>{'conf': {'spark.pyspark.python': 'python3', 'spark.pyspark.virtualenv.enabled': 'true', 'spark.pyspark.virtualenv.type': 'native', 'spark.pyspark.virtualenv.bin.path': '/usr/bin/virtualenv'}, 'proxyUser': 'jovyan', 'kind': 'pyspark'}</tt><br>"
      ],
      "text/plain": [
       "<IPython.core.display.HTML object>"
      ]
     },
     "metadata": {},
     "output_type": "display_data"
    },
    {
     "data": {
      "text/html": [
       "No active sessions."
      ],
      "text/plain": [
       "<IPython.core.display.HTML object>"
      ]
     },
     "metadata": {},
     "output_type": "display_data"
    }
   ],
   "source": [
    "%%configure -f\n",
    "{\n",
    "    \"conf\": {\n",
    "        \"spark.pyspark.python\": \"python3\",\n",
    "        \"spark.pyspark.virtualenv.enabled\": \"true\",\n",
    "        \"spark.pyspark.virtualenv.type\":\"native\",\n",
    "        \"spark.pyspark.virtualenv.bin.path\":\"/usr/bin/virtualenv\"\n",
    "    }\n",
    "}"
   ]
  },
  {
   "cell_type": "code",
   "execution_count": 2,
   "metadata": {},
   "outputs": [
    {
     "name": "stdout",
     "output_type": "stream",
     "text": [
      "Starting Spark application\n"
     ]
    },
    {
     "data": {
      "text/html": [
       "<table>\n",
       "<tr><th>ID</th><th>YARN Application ID</th><th>Kind</th><th>State</th><th>Spark UI</th><th>Driver log</th><th>Current session?</th></tr><tr><td>0</td><td>application_1684871409893_0002</td><td>pyspark</td><td>idle</td><td><a target=\"_blank\" href=\"http://ip-172-31-18-111.ec2.internal:20888/proxy/application_1684871409893_0002/\">Link</a></td><td><a target=\"_blank\" href=\"http://ip-172-31-24-74.ec2.internal:8042/node/containerlogs/container_1684871409893_0002_01_000001/livy\">Link</a></td><td>✔</td></tr></table>"
      ],
      "text/plain": [
       "<IPython.core.display.HTML object>"
      ]
     },
     "metadata": {},
     "output_type": "display_data"
    },
    {
     "data": {
      "application/vnd.jupyter.widget-view+json": {
       "model_id": "",
       "version_major": 2,
       "version_minor": 0
      },
      "text/plain": [
       "FloatProgress(value=0.0, bar_style='info', description='Progress:', layout=Layout(height='25px', width='50%'),…"
      ]
     },
     "metadata": {},
     "output_type": "display_data"
    },
    {
     "name": "stdout",
     "output_type": "stream",
     "text": [
      "SparkSession available as 'spark'.\n"
     ]
    },
    {
     "data": {
      "application/vnd.jupyter.widget-view+json": {
       "model_id": "",
       "version_major": 2,
       "version_minor": 0
      },
      "text/plain": [
       "FloatProgress(value=0.0, bar_style='info', description='Progress:', layout=Layout(height='25px', width='50%'),…"
      ]
     },
     "metadata": {},
     "output_type": "display_data"
    },
    {
     "name": "stdout",
     "output_type": "stream",
     "text": [
      "'3.0.1-amzn-0'"
     ]
    }
   ],
   "source": [
    "spark.version"
   ]
  },
  {
   "cell_type": "code",
   "execution_count": null,
   "metadata": {},
   "outputs": [],
   "source": [
    "%%capture\n",
    "sc.install_pypi_package(\"pandas==1.0.5\")\n",
    "sc.install_pypi_package(\"matplotlib==3.2.1\")"
   ]
  },
  {
   "cell_type": "markdown",
   "metadata": {},
   "source": [
    "# Custom transformer classes"
   ]
  },
  {
   "cell_type": "code",
   "execution_count": 4,
   "metadata": {},
   "outputs": [
    {
     "data": {
      "application/vnd.jupyter.widget-view+json": {
       "model_id": "",
       "version_major": 2,
       "version_minor": 0
      },
      "text/plain": [
       "FloatProgress(value=0.0, bar_style='info', description='Progress:', layout=Layout(height='25px', width='50%'),…"
      ]
     },
     "metadata": {},
     "output_type": "display_data"
    }
   ],
   "source": [
    "from pyspark.sql.functions import udf\n",
    "from pyspark.sql.types import DoubleType, StringType\n",
    "from pyspark import keyword_only\n",
    "from pyspark.ml import Transformer\n",
    "from pyspark.ml.param.shared import HasInputCol, HasOutputCol, Param, Params, TypeConverters\n",
    "from pyspark.ml.util import DefaultParamsReadable, DefaultParamsWritable"
   ]
  },
  {
   "cell_type": "code",
   "execution_count": 5,
   "metadata": {},
   "outputs": [
    {
     "data": {
      "application/vnd.jupyter.widget-view+json": {
       "model_id": "",
       "version_major": 2,
       "version_minor": 0
      },
      "text/plain": [
       "FloatProgress(value=0.0, bar_style='info', description='Progress:', layout=Layout(height='25px', width='50%'),…"
      ]
     },
     "metadata": {},
     "output_type": "display_data"
    }
   ],
   "source": [
    "# FeeCalculator:\n",
    "# Custom Transformer wrapper class for compute_txn_fee\n",
    "# requires a single input column formatted as [gas, gas_price]\n",
    "\n",
    "def compute_txn_fee(gas_and_price):\n",
    "    \"\"\"\n",
    "    gas: gas units used by txn\n",
    "    gas_price: price of each unit of gas in wei (1/10^18 ETH)\n",
    "    returns: txn fee measured in ETH\n",
    "    \"\"\"\n",
    "    \n",
    "    gas, gas_price = map(float, gas_and_price)\n",
    "    \n",
    "    return gas * gas_price / 1.0e18\n",
    "\n",
    "\n",
    "class FeeCalculator(Transformer, HasInputCol, HasOutputCol, DefaultParamsReadable, DefaultParamsWritable):\n",
    "\n",
    "    @keyword_only\n",
    "    def __init__(self, inputCol='gas_and_price', outputCol='txn_fee'):\n",
    "        super().__init__()\n",
    "        self._setDefault(inputCol='gas_and_price', outputCol='txn_fee')\n",
    "        kwargs = self._input_kwargs\n",
    "        self.setParams(**kwargs)\n",
    "  \n",
    "    @keyword_only\n",
    "    def setParams(self, inputCol=None, outputCol='txn_fee'):\n",
    "        kwargs = self._input_kwargs\n",
    "        return self._set(**kwargs)\n",
    "\n",
    "    def setInputCol(self, new_inputCol):\n",
    "        return self.setParams(inputCol=new_inputCol)\n",
    "  \n",
    "    def setOutputCol(self, new_outputCol):\n",
    "        return self.setParams(outputCol=new_outputCol)\n",
    "  \n",
    "    def _transform(self, dataset):\n",
    "        input_column = dataset[self.getInputCol()]\n",
    "        output_column = self.getOutputCol()\n",
    "        udf_func = udf(compute_txn_fee, DoubleType())\n",
    "        return dataset.withColumn(output_column, udf_func(input_column))"
   ]
  },
  {
   "cell_type": "code",
   "execution_count": 6,
   "metadata": {},
   "outputs": [
    {
     "data": {
      "application/vnd.jupyter.widget-view+json": {
       "model_id": "",
       "version_major": 2,
       "version_minor": 0
      },
      "text/plain": [
       "FloatProgress(value=0.0, bar_style='info', description='Progress:', layout=Layout(height='25px', width='50%'),…"
      ]
     },
     "metadata": {},
     "output_type": "display_data"
    }
   ],
   "source": [
    "# FeeAggregator: \n",
    "# Custom Transformer wrapper class for df.groupby(\"frequency\").sum(\"txn_fee\")\n",
    "\n",
    "class FeeAggregator(Transformer, HasInputCol, HasOutputCol, DefaultParamsReadable, DefaultParamsWritable):\n",
    "    \n",
    "    frequency = Param(Params._dummy(), \n",
    "                      \"frequency\", \n",
    "                      \"frequency of groupby aggregation - choose 'block' or 'daily'\",\n",
    "                      typeConverter=TypeConverters.toString)\n",
    "    \n",
    "    @keyword_only\n",
    "    def __init__(self, inputCol='txn_fee', outputCol=None, frequency=None):\n",
    "        super().__init__()\n",
    "        self._setDefault(frequency='daily')\n",
    "        kwargs = self._input_kwargs\n",
    "        self.setParams(**kwargs)\n",
    "  \n",
    "    @keyword_only\n",
    "    def setParams(self, inputCol='txn_fee', outputCol=None, frequency=None):\n",
    "        kwargs = self._input_kwargs\n",
    "        return self._set(**kwargs)\n",
    "\n",
    "    def setInputCol(self, new_inputCol):\n",
    "        return self.setParams(inputCol=new_inputCol)\n",
    "  \n",
    "    def setOutputCol(self, new_outputCol):\n",
    "        return self.setParams(outputCol=new_outputCol)\n",
    "    \n",
    "    def setFrequency(self, new_frequency):\n",
    "        return self.setParams(frequency=new_frequency)\n",
    "    \n",
    "    def getFrequency(self):\n",
    "        return self.getOrDefault(self.frequency)\n",
    "  \n",
    "    def _transform(self, dataset):\n",
    "        # input column should be txn_fee\n",
    "        input_column = self.getInputCol()\n",
    "        if input_column != 'txn_fee':\n",
    "            raise ValueError(\"input should be txn_fee\")\n",
    "        \n",
    "        freq = self.getFrequency()\n",
    "        \n",
    "        if freq == 'daily':\n",
    "            groupbyCol = 'date'\n",
    "            sortbyCol = 'date'\n",
    "        elif freq == 'block':\n",
    "            groupbyCol = ['block_number', 'block_timestamp', 'block_hash', 'date']\n",
    "            sortbyCol = 'block_number'\n",
    "        else:\n",
    "            raise ValueError(\"choose 'block' or 'daily' for frequency\")\n",
    "                             \n",
    "        return dataset.groupBy(groupbyCol).sum(input_column) \\\n",
    "                     .withColumnRenamed(\"sum(txn_fee)\", \"txn_fee\") \\\n",
    "                     .sort(sortbyCol)"
   ]
  },
  {
   "cell_type": "code",
   "execution_count": 7,
   "metadata": {},
   "outputs": [
    {
     "data": {
      "application/vnd.jupyter.widget-view+json": {
       "model_id": "",
       "version_major": 2,
       "version_minor": 0
      },
      "text/plain": [
       "FloatProgress(value=0.0, bar_style='info', description='Progress:', layout=Layout(height='25px', width='50%'),…"
      ]
     },
     "metadata": {},
     "output_type": "display_data"
    }
   ],
   "source": [
    "# LagShifter:\n",
    "# Adds columns to the dataframe shifted by time indices from 1 to lags (parameter)\n",
    "\n",
    "from pyspark.sql.functions import lag, lit, row_number\n",
    "from pyspark.sql.window import Window\n",
    "\n",
    "class LagShifter(Transformer, HasInputCol, HasOutputCol, DefaultParamsReadable, DefaultParamsWritable):\n",
    "    \n",
    "    lags = Param(Params._dummy(), \n",
    "                      \"lags\", \n",
    "                      \"set number of lags, default is 1\",\n",
    "                      typeConverter=TypeConverters.toInt)\n",
    "    \n",
    "    @keyword_only\n",
    "    def __init__(self, inputCol=None, outputCol=None, lags=None):\n",
    "        super().__init__()\n",
    "        self._setDefault(lags=1)\n",
    "        kwargs = self._input_kwargs\n",
    "        self.setParams(**kwargs)\n",
    "        self.FeatureNames = []\n",
    "    \n",
    "    @keyword_only\n",
    "    def setParams(self, inputCol=None, outputCol=None, lags=None):\n",
    "        kwargs = self._input_kwargs\n",
    "        return self._set(**kwargs)\n",
    "    \n",
    "    def setInputCol(self, new_inputCol):\n",
    "        return self.setParams(inputCol=new_inputCol)\n",
    "  \n",
    "    def setOutputCol(self, new_outputCol):\n",
    "        return self.setParams(outputCol=new_outputCol)\n",
    "    \n",
    "    def setLags(self, new_lags):\n",
    "        # reset FeatureNames along lags \n",
    "        self.FeatureNames = []\n",
    "        col_name = self.getInputCol()\n",
    "        for i in range(new_lags):\n",
    "            strLag = col_name +'_lag' + str(i+1)\n",
    "            self.FeatureNames.append(strLag)\n",
    "        return self.setParams(lags=new_lags)\n",
    "    \n",
    "    def getLags(self):\n",
    "        return self.getOrDefault(self.lags)\n",
    "    \n",
    "    def transform(self, dataset):\n",
    "        # transforms the spark dataframe and creates columns\n",
    "        # that have time-lagged values\n",
    "        \n",
    "        self.FeatureNames = []\n",
    "        # sort by first column, which should be either 'date' or 'block_number'\n",
    "        idxCol = dataset.columns[0] \n",
    "        mywindow = Window.orderBy(idxCol)\n",
    "        col_name = self.getInputCol()\n",
    "        for i in range(self.getLags()):\n",
    "            strLag = col_name +'_lag' + str(i+1)\n",
    "            dataset = dataset.withColumn(strLag,lag(\\\n",
    "                               dataset[col_name], i+1).over(mywindow))\n",
    "            self.FeatureNames.append(strLag)\n",
    "        \n",
    "        # remove first n rows with null values\n",
    "        dataset = dataset.withColumn('row_num', row_number().over(mywindow))\n",
    "        dataset = dataset.filter(dataset.row_num > self.getLags())\n",
    "        dataset = dataset.drop('row_num')\n",
    "        return dataset.sort(idxCol)\n",
    "    \n",
    "    def getFeatureNames(self):\n",
    "    # this return the names of feature-columns that are\n",
    "    # generated by transform method\n",
    "        return self.FeatureNames"
   ]
  },
  {
   "cell_type": "markdown",
   "metadata": {},
   "source": [
    "# Pipeline with custom parameters"
   ]
  },
  {
   "cell_type": "code",
   "execution_count": 8,
   "metadata": {},
   "outputs": [
    {
     "data": {
      "application/vnd.jupyter.widget-view+json": {
       "model_id": "",
       "version_major": 2,
       "version_minor": 0
      },
      "text/plain": [
       "FloatProgress(value=0.0, bar_style='info', description='Progress:', layout=Layout(height='25px', width='50%'),…"
      ]
     },
     "metadata": {},
     "output_type": "display_data"
    }
   ],
   "source": [
    "from pyspark.ml import Pipeline, PipelineModel\n",
    "from pyspark.ml.feature import VectorAssembler\n",
    "from pyspark.ml.regression import LinearRegression\n",
    "\n",
    "def build_pipeline(frequency='daily', lags=1, include_regression=True):\n",
    "    \n",
    "    # VectorAssembler: combines 'receipt_gas_used' and 'receipt_effective_gas_price'\n",
    "    gasPriceAssembler = VectorAssembler() \\\n",
    "        .setInputCols(['receipt_gas_used', 'receipt_effective_gas_price']) \\\n",
    "        .setOutputCol('gas_and_price')\n",
    "    \n",
    "    # FeeCalculator: Custom Transformer wrapper class for compute_txn_fee\n",
    "    feeCalculator = FeeCalculator() \\\n",
    "        .setInputCol('gas_and_price') \\\n",
    "        .setOutputCol('txn_fee')\n",
    "\n",
    "    # FeeAggregator: Custom Transformer wrapper class for df.groupby(\"frequency\").sum(\"txn_fee\")\n",
    "    feeAggregator = FeeAggregator() \\\n",
    "        .setInputCol('txn_fee') \\\n",
    "        .setFrequency(frequency)\n",
    "    \n",
    "    # LagShifter: Adds columns to the dataframe shifted by time indices from 1 to lags (parameter)\n",
    "    lagShifter = LagShifter() \\\n",
    "        .setInputCol('txn_fee') \\\n",
    "        .setLags(lags)\n",
    "    \n",
    "    features = lagShifter.getFeatureNames()\n",
    "\n",
    "    # Feature assembler\n",
    "    featureAssembler = VectorAssembler() \\\n",
    "        .setInputCols(features) \\\n",
    "        .setOutputCol('features')\n",
    "    \n",
    "    # collecting stages\n",
    "    stages=[gasPriceAssembler,\n",
    "            feeCalculator,\n",
    "            feeAggregator,\n",
    "            lagShifter,\n",
    "            featureAssembler\n",
    "            ]\n",
    "    \n",
    "    # Linear regression estimator\n",
    "    if include_regression:\n",
    "        linearRegressor = LinearRegression() \\\n",
    "            .setFeaturesCol('features') \\\n",
    "            .setLabelCol('txn_fee') \\\n",
    "            .setMaxIter(10)\n",
    "        stages.append(linearRegressor)\n",
    "\n",
    "    pipeline = Pipeline(stages=stages)\n",
    "    \n",
    "    return pipeline"
   ]
  },
  {
   "cell_type": "markdown",
   "metadata": {},
   "source": [
    "# Train test split (custom)"
   ]
  },
  {
   "cell_type": "markdown",
   "metadata": {},
   "source": [
    "Since random splits would cause forward-looking bias for time series modeling, I build a custom train-test split function which splits the dataset by time index. This is similar to the idea of `TrainValidation` in Spark, where the dataset is only split once into a train, test pair."
   ]
  },
  {
   "cell_type": "code",
   "execution_count": 9,
   "metadata": {},
   "outputs": [
    {
     "data": {
      "application/vnd.jupyter.widget-view+json": {
       "model_id": "",
       "version_major": 2,
       "version_minor": 0
      },
      "text/plain": [
       "FloatProgress(value=0.0, bar_style='info', description='Progress:', layout=Layout(height='25px', width='50%'),…"
      ]
     },
     "metadata": {},
     "output_type": "display_data"
    }
   ],
   "source": [
    "from pyspark.sql.window import Window\n",
    "from pyspark.sql.functions import row_number\n",
    "\n",
    "def TimeSeriesSplit(df, split_ratio=0.8, frequency='daily'):\n",
    "    \"\"\"\n",
    "    Splits time series dataset into an initial training dataset and a later testing dataset\n",
    "    \"\"\"\n",
    "    \n",
    "    # Sort by time\n",
    "    if frequency == 'daily':\n",
    "        orderByCol = 'date'\n",
    "    elif frequency == 'block':\n",
    "        orderByCol = 'block_number'\n",
    "    df = df.sort(orderByCol)    \n",
    "    \n",
    "    # Create a row number for each row\n",
    "    w = Window().orderBy(orderByCol)\n",
    "    df = df.withColumn(\"row_num\", row_number().over(w))\n",
    "\n",
    "    # Calculate the split point\n",
    "    total_rows = df.count()\n",
    "    train_rows = int(total_rows * split_ratio)\n",
    "\n",
    "    # Get the value of the orderByCol at the split point\n",
    "    split_row_num = df.where(df.row_num == train_rows).select(orderByCol).collect()[0][0]\n",
    "\n",
    "    # Split the data ensuring that all data from a specific day or block is included in either the training set or the test set\n",
    "    df_train = df.where(df[orderByCol] <= split_row_num)\n",
    "    df_test = df.where(df[orderByCol] > split_row_num)\n",
    "\n",
    "    # Remove the row number column\n",
    "    df_train = df_train.drop(\"row_num\")\n",
    "    df_test = df_test.drop(\"row_num\")\n",
    "\n",
    "    return df_train, df_test\n"
   ]
  },
  {
   "cell_type": "markdown",
   "metadata": {},
   "source": [
    "# Test run: AR(1) with OLS, daily frequency"
   ]
  },
  {
   "cell_type": "code",
   "execution_count": 10,
   "metadata": {},
   "outputs": [
    {
     "data": {
      "application/vnd.jupyter.widget-view+json": {
       "model_id": "",
       "version_major": 2,
       "version_minor": 0
      },
      "text/plain": [
       "FloatProgress(value=0.0, bar_style='info', description='Progress:', layout=Layout(height='25px', width='50%'),…"
      ]
     },
     "metadata": {},
     "output_type": "display_data"
    }
   ],
   "source": [
    "# load data\n",
    "from pyspark.sql.functions import col\n",
    "start_date = '2021-09-01'\n",
    "end_date = '2023-05-01'\n",
    "data = spark.read.parquet(\"s3://aws-public-blockchain/v1.0/eth/transactions/\") \\\n",
    "                    .where(col('date').between(start_date, end_date)) "
   ]
  },
  {
   "cell_type": "code",
   "execution_count": 11,
   "metadata": {},
   "outputs": [
    {
     "data": {
      "application/vnd.jupyter.widget-view+json": {
       "model_id": "",
       "version_major": 2,
       "version_minor": 0
      },
      "text/plain": [
       "FloatProgress(value=0.0, bar_style='info', description='Progress:', layout=Layout(height='25px', width='50%'),…"
      ]
     },
     "metadata": {},
     "output_type": "display_data"
    }
   ],
   "source": [
    "# train-test split on raw data\n",
    "train, test = TimeSeriesSplit(data, split_ratio=0.8, frequency='daily')"
   ]
  },
  {
   "cell_type": "code",
   "execution_count": 12,
   "metadata": {},
   "outputs": [
    {
     "data": {
      "application/vnd.jupyter.widget-view+json": {
       "model_id": "",
       "version_major": 2,
       "version_minor": 0
      },
      "text/plain": [
       "FloatProgress(value=0.0, bar_style='info', description='Progress:', layout=Layout(height='25px', width='50%'),…"
      ]
     },
     "metadata": {},
     "output_type": "display_data"
    }
   ],
   "source": [
    "# OLS training\n",
    "# pipeline (default parameters of the LinearRegression class yields OLS)\n",
    "ols_pl = build_pipeline(frequency='daily', lags=1)\n",
    "# don't need standardization for OLS\n",
    "ols_pl.getStages()[-1].setStandardization(False)\n",
    "\n",
    "# fitting model with training data\n",
    "ols_pl_mod = ols_pl.fit(train)"
   ]
  },
  {
   "cell_type": "code",
   "execution_count": 13,
   "metadata": {},
   "outputs": [
    {
     "data": {
      "application/vnd.jupyter.widget-view+json": {
       "model_id": "",
       "version_major": 2,
       "version_minor": 0
      },
      "text/plain": [
       "FloatProgress(value=0.0, bar_style='info', description='Progress:', layout=Layout(height='25px', width='50%'),…"
      ]
     },
     "metadata": {},
     "output_type": "display_data"
    }
   ],
   "source": [
    "# prediction\n",
    "# save predictions in memory\n",
    "ols_train_forecast = ols_pl_mod.transform(train).persist()\n",
    "ols_test_forecast = ols_pl_mod.transform(test).persist()"
   ]
  },
  {
   "cell_type": "code",
   "execution_count": 14,
   "metadata": {},
   "outputs": [
    {
     "data": {
      "application/vnd.jupyter.widget-view+json": {
       "model_id": "",
       "version_major": 2,
       "version_minor": 0
      },
      "text/plain": [
       "FloatProgress(value=0.0, bar_style='info', description='Progress:', layout=Layout(height='25px', width='50%'),…"
      ]
     },
     "metadata": {},
     "output_type": "display_data"
    }
   ],
   "source": [
    "# estimated parameters\n",
    "ols_coefs = ols_pl_mod.stages[-1].coefficients\n",
    "ols_intercept = ols_pl_mod.stages[-1].intercept"
   ]
  },
  {
   "cell_type": "code",
   "execution_count": 15,
   "metadata": {},
   "outputs": [
    {
     "data": {
      "application/vnd.jupyter.widget-view+json": {
       "model_id": "",
       "version_major": 2,
       "version_minor": 0
      },
      "text/plain": [
       "FloatProgress(value=0.0, bar_style='info', description='Progress:', layout=Layout(height='25px', width='50%'),…"
      ]
     },
     "metadata": {},
     "output_type": "display_data"
    }
   ],
   "source": [
    "# Evaluation with RMSE\n",
    "from pyspark.ml.evaluation import RegressionEvaluator\n",
    "evaluator = RegressionEvaluator() \\\n",
    "            .setPredictionCol('prediction') \\\n",
    "            .setLabelCol('txn_fee') \\\n",
    "            .setMetricName('rmse')\n",
    "ols_train_RMSE = evaluator.evaluate(ols_train_forecast)\n",
    "ols_test_RMSE = evaluator.evaluate(ols_test_forecast)"
   ]
  },
  {
   "cell_type": "code",
   "execution_count": 16,
   "metadata": {},
   "outputs": [
    {
     "data": {
      "application/vnd.jupyter.widget-view+json": {
       "model_id": "",
       "version_major": 2,
       "version_minor": 0
      },
      "text/plain": [
       "FloatProgress(value=0.0, bar_style='info', description='Progress:', layout=Layout(height='25px', width='50%'),…"
      ]
     },
     "metadata": {},
     "output_type": "display_data"
    },
    {
     "name": "stdout",
     "output_type": "stream",
     "text": [
      "Results for AR(1) with OLS, daily frequency\n",
      "RMSE for training data: 4739.586307761658\n",
      "RMSE for testing data: 1673.2433590235746\n",
      "OLS coefs: c=2631.3209262054684, rho_1=0.5939586600057265"
     ]
    }
   ],
   "source": [
    "# print OLS results\n",
    "print(\"Results for AR(1) with OLS, daily frequency\")\n",
    "print(f\"RMSE for training data: {ols_train_RMSE}\")\n",
    "print(f\"RMSE for testing data: {ols_test_RMSE}\")\n",
    "print(f\"OLS coefs: c={ols_intercept}, rho_1={ols_coefs[0]}\")"
   ]
  },
  {
   "cell_type": "code",
   "execution_count": 17,
   "metadata": {},
   "outputs": [
    {
     "data": {
      "application/vnd.jupyter.widget-view+json": {
       "model_id": "",
       "version_major": 2,
       "version_minor": 0
      },
      "text/plain": [
       "FloatProgress(value=0.0, bar_style='info', description='Progress:', layout=Layout(height='25px', width='50%'),…"
      ]
     },
     "metadata": {},
     "output_type": "display_data"
    }
   ],
   "source": [
    "# visualize forecast - convert to pandas\n",
    "import pandas as pd\n",
    "import matplotlib.pyplot as plt\n",
    "\n",
    "ols_train_forecast_pd = ols_train_forecast.toPandas()\n",
    "ols_test_forecast_pd = ols_test_forecast.toPandas()\n",
    "continuous_forecast = pd.concat([ols_train_forecast_pd, ols_test_forecast_pd])\n",
    "continuous_forecast = continuous_forecast.sort_values(by='date')\n",
    "test_start_date = ols_test_forecast_pd['date'].min()"
   ]
  },
  {
   "cell_type": "code",
   "execution_count": 18,
   "metadata": {},
   "outputs": [
    {
     "data": {
      "application/vnd.jupyter.widget-view+json": {
       "model_id": "",
       "version_major": 2,
       "version_minor": 0
      },
      "text/plain": [
       "FloatProgress(value=0.0, bar_style='info', description='Progress:', layout=Layout(height='25px', width='50%'),…"
      ]
     },
     "metadata": {},
     "output_type": "display_data"
    }
   ],
   "source": [
    "test_start_date = ols_test_forecast_pd['date'].min()"
   ]
  },
  {
   "cell_type": "code",
   "execution_count": 19,
   "metadata": {},
   "outputs": [
    {
     "data": {
      "application/vnd.jupyter.widget-view+json": {
       "model_id": "",
       "version_major": 2,
       "version_minor": 0
      },
      "text/plain": [
       "FloatProgress(value=0.0, bar_style='info', description='Progress:', layout=Layout(height='25px', width='50%'),…"
      ]
     },
     "metadata": {},
     "output_type": "display_data"
    }
   ],
   "source": [
    "# plot\n",
    "plt.figure(figsize=(16,8))\n",
    "plt.plot(continuous_forecast['date'], continuous_forecast['txn_fee'], label='Actual')\n",
    "plt.plot(continuous_forecast['date'], continuous_forecast['prediction'], label='Prediction')\n",
    "plt.axvline(x=test_start_date, color='k', linestyle='--', label='start of test period')\n",
    "plt.xlabel('Date')\n",
    "plt.ylabel('txn_fee')\n",
    "plt.legend()\n",
    "plt.title('Forecast performance - AR(1) OLS')\n",
    "plt.show()"
   ]
  },
  {
   "cell_type": "code",
   "execution_count": 20,
   "metadata": {},
   "outputs": [
    {
     "data": {
      "application/vnd.jupyter.widget-view+json": {
       "model_id": "",
       "version_major": 2,
       "version_minor": 0
      },
      "text/plain": [
       "FloatProgress(value=0.0, bar_style='info', description='Progress:', layout=Layout(height='25px', width='50%'),…"
      ]
     },
     "metadata": {},
     "output_type": "display_data"
    },
    {
     "data": {
      "image/png": "[encoded data removed]",
      "text/plain": [
       "<IPython.core.display.Image object>"
      ]
     },
     "metadata": {},
     "output_type": "display_data"
    }
   ],
   "source": [
    "%matplot plt"
   ]
  },
  {
   "cell_type": "code",
   "execution_count": 21,
   "metadata": {},
   "outputs": [
    {
     "data": {
      "application/vnd.jupyter.widget-view+json": {
       "model_id": "",
       "version_major": 2,
       "version_minor": 0
      },
      "text/plain": [
       "FloatProgress(value=0.0, bar_style='info', description='Progress:', layout=Layout(height='25px', width='50%'),…"
      ]
     },
     "metadata": {},
     "output_type": "display_data"
    },
    {
     "name": "stdout",
     "output_type": "stream",
     "text": [
      "DataFrame[date: date, txn_fee: double, txn_fee_lag1: double, features: vector, prediction: double]"
     ]
    }
   ],
   "source": [
    "# remove forecast data from memory\n",
    "ols_train_forecast.unpersist()\n",
    "ols_test_forecast.unpersist()"
   ]
  },
  {
   "cell_type": "markdown",
   "metadata": {},
   "source": [
    "# Hyperparameter tuning\n",
    "The hyperparameters are: *regParam ($\\lambda$)*, *elasticNetParam ($\\alpha$)*, and *lags*. Since a three-dimensional grid is too computationally intensive, I specify a large number for lags, generating many features, then use the two regularization parameters to suppress some of the features. The result should mimic if the *lags* parameter is also tuned.  \n",
    "For reasons mentioned above, I use single-fold validation with the previously defined training and testing datasets.  \n",
    "To avoid transforming the dataset from raw multiple repeatedly, I build a smaller pipeline with all the required data transformation, and only repeat the training and evaluation part."
   ]
  },
  {
   "cell_type": "code",
   "execution_count": null,
   "metadata": {},
   "outputs": [],
   "source": [
    "# Hyperparam tuning for Linear regression\n",
    "def LRTuning(train_data, test_data, lambda_grid=None, alpha_grid=None, metric_name='rmse'):\n",
    "    \n",
    "    \"\"\"\n",
    "    Performs grid search hyperparameter tuning for linear regression model\n",
    "    train_data, test_data: dataframe with column 'features' and 'txn_fee'\n",
    "    lambda_grid, alpha_grid: iterable of parameter values to search over\n",
    "    metric_name: evaluation metric, default is rmse\n",
    "    \"\"\"\n",
    "    \n",
    "    # default search grid\n",
    "    if lambda_grid is None:\n",
    "        lambda_grid = np.arange(0.0, 0.1, 0.01) # regularization param (penalty rate)\n",
    "    if alpha_grid is None:\n",
    "        alpha_grid = [0,1] # elastic net param, 0 = ridge(L1 penalty), 1 = Lasso(L2 penalty)\n",
    "    \n",
    "    \n",
    "    # dict for storing all tuning data\n",
    "    tuning_data = {'param_values' : [],# a list of dicts, similar to Spark CV's EstimatorParamMaps\n",
    "                   'param_metrics' : [], # a list of metrics, similar to Spark CV's (avg)Metrics \n",
    "                   'model_coefs' : [] # a list of arrays containing model coefficents\n",
    "                   }\n",
    "    \n",
    "    # Evaluator\n",
    "    LREvaluator = RegressionEvaluator() \\\n",
    "            .setPredictionCol('prediction') \\\n",
    "            .setLabelCol('txn_fee') \\\n",
    "            .setMetricName(metric_name)\n",
    "    \n",
    "    # Grid search (serially computed)\n",
    "    for lam in lambda_grid:\n",
    "        for alp in alpha_grid:\n",
    "            \n",
    "            # Record current parameters\n",
    "            param_maps.append({'regParam' : lam, \n",
    "                               'elasticNetParam' : alp})\n",
    "            \n",
    "            # Define regressor with current parameter set\n",
    "            linearRegressor = LinearRegression() \\\n",
    "                    .setFeaturesCol('features') \\\n",
    "                    .setLabelCol('txn_fee') \\\n",
    "                    .setMaxIter(10) \\\n",
    "                    .setRegParam(lam) \\\n",
    "                    .setElasticNetParam(alp) \\\n",
    "                    .setFitIntercept(True)\n",
    "            \n",
    "            # Fit model\n",
    "            lr_model = linearRegressor.fit(train_data)\n",
    "            intercept = ols_pl_mod.stages[-1].intercept\n",
    "            coefs = ols_pl_mod.stages[-1].coefficients\n",
    "            coefs = np.concat([np.array(intercept), coefs.toArray()])\n",
    "            \n",
    "            # Forecasting and evaluation (only on test data)\n",
    "            test_forecast = lr_model.transform(test_data).persist() # persist for faster evaluation\n",
    "            test_metric = LREvaluator.evaluate(test_forecast)\n",
    "            param_metrics.append(test_metric)\n",
    "            test_forecast.unpersist()\n",
    "    \n",
    "    # decide best parameters\n",
    "    if metric_name in ['rmse', 'mse', 'mae']:\n",
    "        opt_func = np.argmin\n",
    "    elif metric_name in ['r2']:\n",
    "        opt_func = np.argmax\n",
    "        \n",
    "    # retrive data from tuning_data dictionary\n",
    "    best_param_idx = opt_func(tuning_data['param_metrics'])\n",
    "    best_param_values = tuning_data['param_values'][best_param_idx]\n",
    "    best_param_metrics = tuning_data['param_metrics'][best_param_idx]\n",
    "    best_model_coefs = tuning_data['model_coefs'][best_param_idx]\n",
    "    \n",
    "    return best_param_values, best_param_metrics, best_model_coefs\n",
    "    "
   ]
  },
  {
   "cell_type": "code",
   "execution_count": null,
   "metadata": {},
   "outputs": [],
   "source": [
    "# preprocessing pipeline: generates transformed dataset with features column\n",
    "daily_preproc_pl = build_pipeline(frequency='daily', lags=5, include_regression=False)\n",
    "block_preproc_pl = build_pipeline(frequency='block', lags=5, include_regression=False)\n",
    "\n",
    "# transformed datasets \n",
    "# recycle the raw train, test datasets from baseline model, \n",
    "# the split was according to date so no need to split again on block level\n",
    "raw_train = train\n",
    "raw_test = test"
   ]
  },
  {
   "cell_type": "code",
   "execution_count": null,
   "metadata": {},
   "outputs": [],
   "source": [
    "# Hyperparameter tuning for daily frequency\n",
    "# save transformed data\n",
    "daily_train = daily_preproc_pl.transform(raw_train).persist()\n",
    "daily_test = daily_preproc_pl.transform(raw_test).persist()\n",
    "\n",
    "daily_results = LRTuning(train_data=daily_train,\n",
    "                         test_data=daily_test,\n",
    "                         lambda_grid = np.arange(0.0, 0.1, 0.01),\n",
    "                         alpha_grid = [0,1],\n",
    "                         metric_name='rmse')\n",
    "# print results\n",
    "print(\"Model tuning results (frequency=daily):\")\n",
    "print(\"Hyperparameters: \")\n",
    "\n",
    "daily_train.unpersist()"
   ]
  },
  {
   "cell_type": "code",
   "execution_count": null,
   "metadata": {},
   "outputs": [],
   "source": [
    "block_train = block_preproc_pl.transform(raw_train).persist()"
   ]
  }
 ],
 "metadata": {
  "kernelspec": {
   "display_name": "PySpark",
   "language": "",
   "name": "pysparkkernel"
  },
  "language_info": {
   "codemirror_mode": {
    "name": "python",
    "version": 3
   },
   "mimetype": "text/x-python",
   "name": "pyspark",
   "pygments_lexer": "python3"
  }
 },
 "nbformat": 4,
 "nbformat_minor": 4
}
